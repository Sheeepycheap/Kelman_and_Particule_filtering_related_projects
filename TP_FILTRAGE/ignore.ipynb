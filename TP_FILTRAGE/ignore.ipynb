{
 "cells": [
  {
   "cell_type": "code",
   "execution_count": 27,
   "metadata": {},
   "outputs": [],
   "source": [
    "import numpy as np\n",
    "\n",
    "A = np.zeros((1,10)).T\n",
    "B = np.zeros((10,4))\n",
    "B[:,0] = A[0]"
   ]
  },
  {
   "cell_type": "code",
   "execution_count": 11,
   "metadata": {},
   "outputs": [
    {
     "data": {
      "text/plain": [
       "array([1.38389653e-85, 1.52951160e-07])"
      ]
     },
     "execution_count": 11,
     "metadata": {},
     "output_type": "execute_result"
    }
   ],
   "source": [
    "import numpy as np\n",
    "import matplotlib.pyplot as plt\n",
    "from scipy.stats import expon\n",
    "\n",
    "# Generate a range of x values to plot the PDF\n",
    "x = [2,30]\n",
    "# Evaluate the PDF at each value of x\n",
    "y = expon.pdf(x, scale=[0.01,2])\n",
    "y"
   ]
  },
  {
   "cell_type": "code",
   "execution_count": 2,
   "metadata": {},
   "outputs": [
    {
     "data": {
      "text/plain": [
       "array([2.71828183, 7.3890561 ])"
      ]
     },
     "execution_count": 2,
     "metadata": {},
     "output_type": "execute_result"
    }
   ],
   "source": [
    "import numpy as np\n",
    "A = [1,2]\n",
    "\n",
    "b = np.exp(A)\n",
    "b"
   ]
  },
  {
   "cell_type": "code",
   "execution_count": 6,
   "metadata": {},
   "outputs": [
    {
     "data": {
      "text/plain": [
       "8"
      ]
     },
     "execution_count": 6,
     "metadata": {},
     "output_type": "execute_result"
    }
   ],
   "source": [
    "A = np.array([[1,2,3],[2,2,2]])\n",
    "\n",
    "B= (A[:,1]*A[:,1]).sum()\n",
    "B"
   ]
  },
  {
   "cell_type": "code",
   "execution_count": 63,
   "metadata": {},
   "outputs": [
    {
     "name": "stdout",
     "output_type": "stream",
     "text": [
      "[[379.95000247]\n",
      " [447.42087426]\n",
      " [414.47075988]\n",
      " [408.48819386]]\n"
     ]
    },
    {
     "data": {
      "text/plain": [
       "array([[379.95000247],\n",
       "       [447.42087426],\n",
       "       [414.47075988],\n",
       "       [408.48819386]])"
      ]
     },
     "execution_count": 63,
     "metadata": {},
     "output_type": "execute_result"
    }
   ],
   "source": [
    "X = np.array([[398.50190161],\n",
    " [422.20640559],\n",
    " [391.67672287],\n",
    " [402.80504431]])\n",
    "B = np.random.normal(0,20,(4,1))\n",
    "C = np.zeros((4,1))\n",
    "print(X + B)\n",
    "C[:,0] = (X + B).flatten()\n",
    "C"
   ]
  },
  {
   "cell_type": "code",
   "execution_count": 37,
   "metadata": {},
   "outputs": [
    {
     "data": {
      "text/plain": [
       "array([0.04009872,        nan,        nan,        nan,        nan,\n",
       "              nan,        nan,        nan,        nan,        nan,\n",
       "              nan,        nan,        nan,        nan,        nan,\n",
       "              nan,        nan,        nan,        nan,        nan,\n",
       "              nan,        nan,        nan,        nan,        nan,\n",
       "              nan,        nan,        nan,        nan,        nan,\n",
       "              nan,        nan,        nan,        nan,        nan,\n",
       "              nan,        nan,        nan,        nan,        nan,\n",
       "              nan,        nan,        nan,        nan,        nan,\n",
       "              nan,        nan,        nan,        nan,        nan,\n",
       "              nan,        nan,        nan,        nan,        nan,\n",
       "              nan,        nan,        nan,        nan,        nan,\n",
       "              nan,        nan,        nan,        nan,        nan,\n",
       "              nan,        nan,        nan,        nan,        nan,\n",
       "              nan,        nan,        nan,        nan,        nan,\n",
       "              nan,        nan,        nan,        nan,        nan,\n",
       "              nan,        nan,        nan,        nan,        nan,\n",
       "              nan,        nan,        nan,        nan,        nan,\n",
       "              nan,        nan,        nan,        nan,        nan,\n",
       "              nan,        nan,        nan,        nan,        nan])"
      ]
     },
     "execution_count": 37,
     "metadata": {},
     "output_type": "execute_result"
    }
   ],
   "source": [
    "scale = [14.193128315759415, -9.572771056934812, -12.828480183629637, -6.8468766851265865, -5.423691093232904, -12.19334125522295, -14.019974080280658, -16.574325250022603, -8.773686962180827, -8.601090243168596, -7.524790640883846, -9.377709396718675, -18.039164838021787, -11.044378682955202, -13.218906782601902, -9.471620225860553, -5.432815578476169, -5.9098429253957585, -7.097605100388766, -14.174435071581414, \n",
    "-6.338050699247434, -7.701197107117332, -7.977036854420163, -10.423001764611028, -17.72955071129435, -11.507699646852041, -11.006843345296842, -9.408749579535392, -9.17107527914653, -7.061135582753933, -4.030192474695264, -12.467677456764237, -7.467578691191189, -11.369222133308408, -15.13096811403118, -6.804021682894337, -13.588865825387463, -9.547589537593437, -5.520940254690113, -15.425152777356509, -8.585561949057134, -5.035052321494556, -18.462887947104083, -17.323446581201615, -18.176316968734515, -6.814449631080683, -16.107583939574013, -5.502718053587456, -17.01740485809062, -6.681916397244638, -11.467130880734588, -5.937014048713624, -12.6794427367221, -9.262837872954643, -9.113745650584432, -6.939674114607176, -6.824456531293263, -10.599039162288303, -7.118454367046116, -5.094152720549286, -9.860981271893747, -11.991710364247357, -6.6188163709999985, -9.619761500379141, -11.356817793011166, -4.2271422707711785, -19.393090049772457, -3.353438067458485, -11.229794882101595, -6.948476414761348, -15.392670274640045, -8.774688022597694, -6.201252378368954, -4.861225845127456, -15.261539013497288, -7.679352560938117, -20.298695111989506, -10.83018019136221, -4.968788911314248, -5.699304971409511, -5.18651491649142, -17.27860659126794, -7.60532356755043, -3.727571206989923, -16.643917252478794, -13.103195259820852, -6.271591829781984, -8.85060869495254, -12.245426953650465, -9.681407321732264, -6.784929429143867, -14.052448183899545, -11.915739478159352, -6.618788298347289, -12.623922400235069, -11.699553986229354, -10.487699095437117, -8.876167672840259, -12.776153790046262, -4.985044609254987]\n",
    "C = expon.pdf(8,scale=scale)\n",
    "C"
   ]
  },
  {
   "cell_type": "code",
   "execution_count": 49,
   "metadata": {},
   "outputs": [
    {
     "data": {
      "text/plain": [
       "array([[ 0., 20.,  0.,  0.,  0.,  0.,  0.,  0.,  0.,  0.]])"
      ]
     },
     "execution_count": 49,
     "metadata": {},
     "output_type": "execute_result"
    }
   ],
   "source": [
    "A = np.zeros((10,4))\n",
    "A[:,1] = 1\n",
    "B = np.zeros((10,4))\n",
    "B[:,1] = 2\n",
    "C = np.zeros((1,10))\n",
    "C[:,1] = (A[:,1]*B[:,1]).sum()\n",
    "C"
   ]
  },
  {
   "cell_type": "code",
   "execution_count": 6,
   "metadata": {},
   "outputs": [
    {
     "data": {
      "text/plain": [
       "array([ 0,  2, 34, 30, 49, 15, 22, 40,  6,  0, 49,  3, 16, 17, 25, 44, 27,\n",
       "       11, 26, 21, 18, 49, 28,  1, 43, 25, 24, 49, 26,  0, 30, 47, 25, 44,\n",
       "       17, 24, 13,  0,  0, 45,  0, 26, 31,  0, 43,  0, 26,  0,  0, 14])"
      ]
     },
     "execution_count": 6,
     "metadata": {},
     "output_type": "execute_result"
    }
   ],
   "source": [
    "w_t_abs = [0.14805244, 0.01300619, 0.01042709, 0.00515908, 0.01582016, 0.01054671,\n",
    " 0.00728771, 0.03530252, 0.01511967, 0.01408459, 0.01257643, 0.02329097,\n",
    " 0.01130909, 0.01151063, 0.01204542, 0.01030749, 0.02013021, 0.05155163,\n",
    " 0.01622594, 0.00696558, 0.01290297, 0.01227924, 0.03797886, 0.01423656,\n",
    " 0.04217678 ,0.01055103, 0.03711242, 0.01790676, 0.01425095, 0.0159069,\n",
    " 0.01051914 ,0.01142859, 0.02361032, 0.02109113, 0.00793285 ,0.00723412,\n",
    " 0.02083981, 0.00539234, 0.03299239, 0.01416922, 0.01187343 ,0.02452271,\n",
    " 0.01506723, 0.0207047,  0.01354765, 0.014926,   0.02079359 ,0.01769635,\n",
    " 0.01689785, 0.02273856]\n",
    "\n",
    "N = 50\n",
    "A = np.random.choice(range(N),N,p=w_t_abs)\n",
    "A"
   ]
  },
  {
   "cell_type": "code",
   "execution_count": 10,
   "metadata": {},
   "outputs": [
    {
     "ename": "TypeError",
     "evalue": "list indices must be integers or slices, not tuple",
     "output_type": "error",
     "traceback": [
      "\u001b[1;31m---------------------------------------------------------------------------\u001b[0m",
      "\u001b[1;31mTypeError\u001b[0m                                 Traceback (most recent call last)",
      "\u001b[1;32mc:\\Users\\aline\\OneDrive\\Bureau\\Inférence Bayesiennes\\TP_FILTRAGE\\ignore.ipynb Cellule 9\u001b[0m in \u001b[0;36m<cell line: 5>\u001b[1;34m()\u001b[0m\n\u001b[0;32m      <a href='vscode-notebook-cell:/c%3A/Users/aline/OneDrive/Bureau/Inf%C3%A9rence%20Bayesiennes/TP_FILTRAGE/ignore.ipynb#X11sZmlsZQ%3D%3D?line=2'>3</a>\u001b[0m a[:,\u001b[39m0\u001b[39m] \u001b[39m=\u001b[39m \u001b[39m1\u001b[39m\n\u001b[0;32m      <a href='vscode-notebook-cell:/c%3A/Users/aline/OneDrive/Bureau/Inf%C3%A9rence%20Bayesiennes/TP_FILTRAGE/ignore.ipynb#X11sZmlsZQ%3D%3D?line=3'>4</a>\u001b[0m a \u001b[39m=\u001b[39m [[\u001b[39m1\u001b[39m,\u001b[39m2\u001b[39m,\u001b[39m3\u001b[39m],[\u001b[39m0\u001b[39m]]\n\u001b[1;32m----> <a href='vscode-notebook-cell:/c%3A/Users/aline/OneDrive/Bureau/Inf%C3%A9rence%20Bayesiennes/TP_FILTRAGE/ignore.ipynb#X11sZmlsZQ%3D%3D?line=4'>5</a>\u001b[0m a[\u001b[39m0\u001b[39;49m,\u001b[39m1\u001b[39;49m]\n",
      "\u001b[1;31mTypeError\u001b[0m: list indices must be integers or slices, not tuple"
     ]
    }
   ],
   "source": [
    "import numpy as np\n",
    "a = np.zeros((10,2))\n",
    "a[:,0] = 1\n",
    "\n"
   ]
  }
 ],
 "metadata": {
  "kernelspec": {
   "display_name": "base",
   "language": "python",
   "name": "python3"
  },
  "language_info": {
   "codemirror_mode": {
    "name": "ipython",
    "version": 3
   },
   "file_extension": ".py",
   "mimetype": "text/x-python",
   "name": "python",
   "nbconvert_exporter": "python",
   "pygments_lexer": "ipython3",
   "version": "3.9.12"
  },
  "orig_nbformat": 4,
  "vscode": {
   "interpreter": {
    "hash": "c5b51481602d3d95fde090642fd16d0c22a3b6361e51a93baf692e150d27ef53"
   }
  }
 },
 "nbformat": 4,
 "nbformat_minor": 2
}
